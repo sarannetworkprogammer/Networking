{
  "nbformat": 4,
  "nbformat_minor": 0,
  "metadata": {
    "colab": {
      "provenance": [],
      "authorship_tag": "ABX9TyNhOoi9bnGds/2z4doyNtcy",
      "include_colab_link": true
    },
    "kernelspec": {
      "name": "python3",
      "display_name": "Python 3"
    },
    "language_info": {
      "name": "python"
    }
  },
  "cells": [
    {
      "cell_type": "markdown",
      "metadata": {
        "id": "view-in-github",
        "colab_type": "text"
      },
      "source": [
        "<a href=\"https://colab.research.google.com/github/sarannetworkprogammer/Networking/blob/main/Route_target_generation_by_switch.ipynb\" target=\"_parent\"><img src=\"https://colab.research.google.com/assets/colab-badge.svg\" alt=\"Open In Colab\"/></a>"
      ]
    },
    {
      "cell_type": "code",
      "execution_count": null,
      "metadata": {
        "colab": {
          "base_uri": "https://localhost:8080/"
        },
        "id": "knXBnOVxB5Ui",
        "outputId": "2f9df406-110f-4781-fc2c-a153942adedd"
      },
      "outputs": [
        {
          "output_type": "stream",
          "name": "stdout",
          "text": [
            "route_target = 268436466\n"
          ]
        }
      ],
      "source": [
        "vni = 1010   # (input vni here this is how switch generates rts when you use command rt auto)\n",
        "\n",
        "auto = \"00010000\" # first bit is for auto , 1 is for vx lan \n",
        "\n",
        "b = bin(vni)[2:]\n",
        "length = len(b)\n",
        "\n",
        "route_target = auto +  \"0\" * (24- length) + b\n",
        "\n",
        "print(f\"route_target = {int(route_target,2)}\")\n",
        "\n"
      ]
    }
  ]
}